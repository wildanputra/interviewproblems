{
  "nbformat": 4,
  "nbformat_minor": 0,
  "metadata": {
    "colab": {
      "name": "solving interview problems.ipynb",
      "provenance": [],
      "collapsed_sections": [],
      "include_colab_link": true
    },
    "kernelspec": {
      "name": "python3",
      "display_name": "Python 3"
    }
  },
  "cells": [
    {
      "cell_type": "markdown",
      "metadata": {
        "id": "view-in-github",
        "colab_type": "text"
      },
      "source": [
        "<a href=\"https://colab.research.google.com/github/wildanputra/interviewproblems/blob/master/solving_interview_problems.ipynb\" target=\"_parent\"><img src=\"https://colab.research.google.com/assets/colab-badge.svg\" alt=\"Open In Colab\"/></a>"
      ]
    },
    {
      "cell_type": "markdown",
      "metadata": {
        "id": "CIGSvQiODGTm",
        "colab_type": "text"
      },
      "source": [
        "# Practicing Daily Interview Problems\n",
        "I will consistent practice solving interview problems in this notebook. Many of these questions were obtained from dailyinterviewpro.com, and several other questions I received during the interview"
      ]
    },
    {
      "cell_type": "markdown",
      "metadata": {
        "id": "xF4BTybdET3H",
        "colab_type": "text"
      },
      "source": [
        "# Cut the stick, Mapan.id"
      ]
    },
    {
      "cell_type": "markdown",
      "metadata": {
        "id": "pY_id8QwHCix",
        "colab_type": "text"
      },
      "source": [
        "There are N sticks, of varying lengths. Then do a mass cutting of the N sticks along the smallest sticks available. After that, cutting is made of the remaining sticks as long as the smallest sticks are available, and so on until they run out.\n",
        "If given input as follows:\n",
        "\n",
        "N = Number of sticks (positive integers)\n",
        "\n",
        "arr = Array containing the length of each stick (the size of the array is N)\n",
        "\n",
        "Write down the program to find out how many times the cut is needed until it can't be cut again."
      ]
    },
    {
      "cell_type": "markdown",
      "metadata": {
        "id": "T_XeaKZXG3f7",
        "colab_type": "text"
      },
      "source": [
        "## Solution"
      ]
    },
    {
      "cell_type": "code",
      "metadata": {
        "id": "mcvHgOfUFUf6",
        "colab_type": "code",
        "outputId": "e84ea31f-f0e1-40c7-cfbc-4bcf335376d4",
        "colab": {
          "base_uri": "https://localhost:8080/",
          "height": 35
        }
      },
      "source": [
        "arr = [5,3,1,6] \n",
        "\n",
        "def potong(arr):\n",
        "  i=0\n",
        "  while arr:\n",
        "    potong = min(arr)\n",
        "    arr.remove(potong)\n",
        "    for x in range(len(arr)):\n",
        "      arr[x] = arr[x] - potong \n",
        "    i+=1\n",
        "  return(i)\n",
        "\n",
        "potong(arr)"
      ],
      "execution_count": 0,
      "outputs": [
        {
          "output_type": "execute_result",
          "data": {
            "text/plain": [
              "4"
            ]
          },
          "metadata": {
            "tags": []
          },
          "execution_count": 7
        }
      ]
    },
    {
      "cell_type": "markdown",
      "metadata": {
        "id": "PHiKbi5u6_k1",
        "colab_type": "text"
      },
      "source": [
        "# Add two numbers as a linked list, Microsoft"
      ]
    },
    {
      "cell_type": "markdown",
      "metadata": {
        "id": "5fk6Nom77E9j",
        "colab_type": "text"
      },
      "source": [
        "You are given two linked-lists representing two non-negative integers. The digits are stored in reverse order and each of their nodes contain a single digit. Add the two numbers and return it as a linked list.\n",
        "\n",
        "Example:\n",
        "\n",
        "Input: (2 -> 4 -> 3) + (5 -> 6 -> 4)\n",
        "\n",
        "Output: 7 -> 0 -> 8\n",
        "\n",
        "Explanation: 342 + 465 = 807."
      ]
    },
    {
      "cell_type": "code",
      "metadata": {
        "id": "v-2qt17g8iWg",
        "colab_type": "code",
        "colab": {}
      },
      "source": [
        "# Definition for singly-linked list.\n",
        "class ListNode(object):\n",
        "  def __init__(self, x):\n",
        "    self.val = x\n",
        "    self.next = None\n",
        "\n",
        "class Solution:\n",
        "  def addTwoNumbers(self, l1, l2, c = 0):\n",
        "    # Fill this in.\n",
        "\n",
        "l1 = ListNode(2)\n",
        "l1.next = ListNode(4)\n",
        "l1.next.next = ListNode(3)\n",
        "\n",
        "l2 = ListNode(5)\n",
        "l2.next = ListNode(6)\n",
        "l2.next.next = ListNode(4)\n",
        "\n",
        "result = Solution().addTwoNumbers(l1, l2)\n",
        "while result:\n",
        "  print result.val,\n",
        "  result = result.next\n",
        "# 7 0 8"
      ],
      "execution_count": 0,
      "outputs": []
    }
  ]
}